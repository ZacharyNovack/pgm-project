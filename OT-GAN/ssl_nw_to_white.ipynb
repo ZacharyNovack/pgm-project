{
 "cells": [
  {
   "cell_type": "code",
   "execution_count": 3,
   "metadata": {},
   "outputs": [
    {
     "name": "stderr",
     "output_type": "stream",
     "text": [
      "2022-04-29 08:32:18.701186: W tensorflow/stream_executor/platform/default/dso_loader.cc:64] Could not load dynamic library 'libcudart.so.11.0'; dlerror: libcudart.so.11.0: cannot open shared object file: No such file or directory; LD_LIBRARY_PATH: :/usr/local/cuda-10.0/lib64:/usr/local/cuda-10.0/extras/CUPTI/lib64\n",
      "2022-04-29 08:32:18.701213: I tensorflow/stream_executor/cuda/cudart_stub.cc:29] Ignore above cudart dlerror if you do not have a GPU set up on your machine.\n"
     ]
    },
    {
     "name": "stdout",
     "output_type": "stream",
     "text": [
      "[]\n"
     ]
    },
    {
     "name": "stderr",
     "output_type": "stream",
     "text": [
      "2022-04-29 08:32:20.027278: W tensorflow/stream_executor/platform/default/dso_loader.cc:64] Could not load dynamic library 'libcudart.so.11.0'; dlerror: libcudart.so.11.0: cannot open shared object file: No such file or directory; LD_LIBRARY_PATH: :/usr/local/cuda-10.0/lib64:/usr/local/cuda-10.0/extras/CUPTI/lib64\n",
      "2022-04-29 08:32:20.027388: W tensorflow/stream_executor/platform/default/dso_loader.cc:64] Could not load dynamic library 'libcublas.so.11'; dlerror: libcublas.so.11: cannot open shared object file: No such file or directory; LD_LIBRARY_PATH: :/usr/local/cuda-10.0/lib64:/usr/local/cuda-10.0/extras/CUPTI/lib64\n",
      "2022-04-29 08:32:20.027455: W tensorflow/stream_executor/platform/default/dso_loader.cc:64] Could not load dynamic library 'libcublasLt.so.11'; dlerror: libcublasLt.so.11: cannot open shared object file: No such file or directory; LD_LIBRARY_PATH: :/usr/local/cuda-10.0/lib64:/usr/local/cuda-10.0/extras/CUPTI/lib64\n",
      "2022-04-29 08:32:20.027522: W tensorflow/stream_executor/platform/default/dso_loader.cc:64] Could not load dynamic library 'libcufft.so.10'; dlerror: libcufft.so.10: cannot open shared object file: No such file or directory; LD_LIBRARY_PATH: :/usr/local/cuda-10.0/lib64:/usr/local/cuda-10.0/extras/CUPTI/lib64\n",
      "2022-04-29 08:32:20.027590: W tensorflow/stream_executor/platform/default/dso_loader.cc:64] Could not load dynamic library 'libcurand.so.10'; dlerror: libcurand.so.10: cannot open shared object file: No such file or directory; LD_LIBRARY_PATH: :/usr/local/cuda-10.0/lib64:/usr/local/cuda-10.0/extras/CUPTI/lib64\n",
      "2022-04-29 08:32:20.027657: W tensorflow/stream_executor/platform/default/dso_loader.cc:64] Could not load dynamic library 'libcusolver.so.11'; dlerror: libcusolver.so.11: cannot open shared object file: No such file or directory; LD_LIBRARY_PATH: :/usr/local/cuda-10.0/lib64:/usr/local/cuda-10.0/extras/CUPTI/lib64\n",
      "2022-04-29 08:32:20.027723: W tensorflow/stream_executor/platform/default/dso_loader.cc:64] Could not load dynamic library 'libcusparse.so.11'; dlerror: libcusparse.so.11: cannot open shared object file: No such file or directory; LD_LIBRARY_PATH: :/usr/local/cuda-10.0/lib64:/usr/local/cuda-10.0/extras/CUPTI/lib64\n",
      "2022-04-29 08:32:20.027789: W tensorflow/stream_executor/platform/default/dso_loader.cc:64] Could not load dynamic library 'libcudnn.so.8'; dlerror: libcudnn.so.8: cannot open shared object file: No such file or directory; LD_LIBRARY_PATH: :/usr/local/cuda-10.0/lib64:/usr/local/cuda-10.0/extras/CUPTI/lib64\n",
      "2022-04-29 08:32:20.027799: W tensorflow/core/common_runtime/gpu/gpu_device.cc:1850] Cannot dlopen some GPU libraries. Please make sure the missing libraries mentioned above are installed properly if you would like to use GPU. Follow the guide at https://www.tensorflow.org/install/gpu for how to download and setup the required libraries for your platform.\n",
      "Skipping registering GPU devices...\n"
     ]
    }
   ],
   "source": [
    "from __future__ import print_function, division\n",
    "\n",
    "import numpy as np\n",
    "import matplotlib.pyplot as plt\n",
    "import seaborn as sns\n",
    "import warnings\n",
    "import tensorflow as tf\n",
    "import os\n",
    "import pickle as pk\n",
    "\n",
    "#Prevent TensorFlow from taking up all of GPU memory\n",
    "gpus = tf.config.experimental.list_physical_devices('GPU')\n",
    "for gpu in gpus:\n",
    "    tf.config.experimental.set_memory_growth(gpu, True)\n",
    "print(gpus)\n",
    "warnings.simplefilter('ignore', UserWarning)\n",
    "\n",
    "from util import *"
   ]
  },
  {
   "cell_type": "code",
   "execution_count": 3,
   "metadata": {},
   "outputs": [],
   "source": [
    "# data_dim = 2\n",
    "# data_size = 1000\n",
    "\n",
    "# X2, X1, y2, y1, columns = generate_lipton(scale=True, num_pts=data_size)\n",
    "# name1 = 'women'\n",
    "# name2 = 'men'"
   ]
  },
  {
   "cell_type": "markdown",
   "metadata": {},
   "source": [
    "read and whiten data"
   ]
  },
  {
   "cell_type": "code",
   "execution_count": 1,
   "metadata": {},
   "outputs": [],
   "source": [
    "def whitenize(df_p, df_np):\n",
    "    joint_df = pd.concat([df_p, df_np])\n",
    "    for col in joint_df.columns:\n",
    "        if col in []:\n",
    "            print(col)\n",
    "            df_p[col] = np.log(df_p[col] + 10e-6)\n",
    "            df_np[col] = np.log(df_np[col] + 10e-6)\n",
    "            joint_df[col] = np.log(joint_df[col] + 10e-6)\n",
    "    means = joint_df.mean()\n",
    "    discret = []\n",
    "    for col in joint_df.columns:\n",
    "        if len(np.unique(joint_df[col])) <= 2:\n",
    "            discret.append(col)\n",
    "    new_p_df = df_p - means\n",
    "    new_np_df = df_np - means\n",
    "    stds = joint_df.std()\n",
    "    for col in joint_df.columns:\n",
    "        if joint_df[col].std() > 0:\n",
    "            new_p_df[col] = new_p_df[col] / joint_df[col].std()\n",
    "            new_np_df[col] = new_np_df[col] / joint_df[col].std()\n",
    "    return new_p_df, new_np_df, means, stds, discret"
   ]
  },
  {
   "cell_type": "code",
   "execution_count": 4,
   "metadata": {},
   "outputs": [],
   "source": [
    "in_X1 = pd.read_csv(\"SSL_inputs_protec.csv\")\n",
    "in_X1.drop(columns=[\"Unnamed: 0\"], inplace=True)\n",
    "#in_X1.columns = list(range(len(in_X1.columns)))\n",
    "\n",
    "in_X2 = pd.read_csv(\"SSL_inputs_notprotec.csv\")\n",
    "in_X2.drop(columns=[\"Unnamed: 0\"], inplace=True)\n",
    "#in_X2.columns = list(range(len(in_X2.columns)))\n",
    "X1, X2, means, stds, discrets = whitenize(in_X1, in_X2)\n",
    "X1 = X1[:500]\n",
    "X2 = X2[:500]\n",
    "X1 = X1.to_numpy()\n",
    "X2 = X2.to_numpy()"
   ]
  },
  {
   "cell_type": "code",
   "execution_count": 5,
   "metadata": {},
   "outputs": [],
   "source": [
    "data_dim = X1.shape[1]\n",
    "name1 = 'non-white'\n",
    "name2 = 'white'"
   ]
  },
  {
   "cell_type": "code",
   "execution_count": 6,
   "metadata": {},
   "outputs": [
    {
     "data": {
      "text/plain": [
       "7"
      ]
     },
     "execution_count": 6,
     "metadata": {},
     "output_type": "execute_result"
    }
   ],
   "source": [
    "data_dim"
   ]
  },
  {
   "cell_type": "code",
   "execution_count": 8,
   "metadata": {},
   "outputs": [
    {
     "name": "stderr",
     "output_type": "stream",
     "text": [
      "2022-04-29 08:33:01.815500: I tensorflow/core/platform/cpu_feature_guard.cc:151] This TensorFlow binary is optimized with oneAPI Deep Neural Network Library (oneDNN) to use the following CPU instructions in performance-critical operations:  AVX2 AVX512F FMA\n",
      "To enable them in other operations, rebuild TensorFlow with the appropriate compiler flags.\n"
     ]
    }
   ],
   "source": [
    "lambda_l1 = 1e-4\n",
    "\n",
    "D, G, combined = create_gan_small(data_dim, trans_loss_func=squared_l1_loss, trans_loss_wt=lambda_l1)\n",
    "#train(D, G, combined, X1, X2, name1, name2, xlabel='work_exp', ylabel='hair_len', xlim=(-3,3), ylim=(-3,3), epochs=2000, batch_size=32, xindex=0, yindex=4)"
   ]
  },
  {
   "cell_type": "code",
   "execution_count": 9,
   "metadata": {},
   "outputs": [
    {
     "data": {
      "text/plain": [
       "<tensorflow.python.training.tracking.util.CheckpointLoadStatus at 0x7f12d473d580>"
      ]
     },
     "execution_count": 9,
     "metadata": {},
     "output_type": "execute_result"
    }
   ],
   "source": [
    "#G.save_weights('ssl_gan')\n",
    "G.load_weights('ssl_gan')"
   ]
  },
  {
   "cell_type": "code",
   "execution_count": 10,
   "metadata": {},
   "outputs": [
    {
     "data": {
      "image/png": "[encoded data removed]",
      "text/plain": [
       "<Figure size 432x288 with 1 Axes>"
      ]
     },
     "metadata": {
      "needs_background": "light"
     },
     "output_type": "display_data"
    }
   ],
   "source": [
    "plot(X1, X2, G, name1, name2, num_pts_plot=200, xlabel='work_exp', ylabel='hair_len', xlim=(-3,3), ylim=(-3,3), xindex=1, yindex=2)"
   ]
  },
  {
   "cell_type": "code",
   "execution_count": 11,
   "metadata": {},
   "outputs": [
    {
     "data": {
      "image/png": "[encoded data removed]",
      "text/plain": [
       "<Figure size 432x288 with 1 Axes>"
      ]
     },
     "metadata": {
      "needs_background": "light"
     },
     "output_type": "display_data"
    }
   ],
   "source": [
    "plot_changes(X1, G, name1, name2, xlabel='age', ylabel='hours_per_week', xlim=(-3,3), ylim=(-3,3), num_pts_plot=100, xindex=0, yindex=5)"
   ]
  },
  {
   "cell_type": "code",
   "execution_count": 13,
   "metadata": {},
   "outputs": [],
   "source": [
    "def dewhiten(data, mu, sigma, dis):\n",
    "    new_df = pd.DataFrame(data, columns = list(range(data.shape[1])))\n",
    "    for col in new_df.columns:\n",
    "        if sigma[col] > 0:\n",
    "            new_df[col] = new_df[col] * sigma[col]\n",
    "        new_df[col] = new_df[col] + mu[col]\n",
    "    for col in new_df.columns:\n",
    "        if col in []:\n",
    "            print(col)\n",
    "            new_df[col] = np.exp(new_df[col]) - 10e-6\n",
    "        if str(col) in dis or col in [1, 2, 3, 4, 6]:\n",
    "            new_df[col] = np.abs(np.round(new_df[col]))\n",
    "    return new_df"
   ]
  },
  {
   "cell_type": "code",
   "execution_count": 52,
   "metadata": {},
   "outputs": [
    {
     "data": {
      "text/html": [
       "<div>\n",
       "<style scoped>\n",
       "    .dataframe tbody tr th:only-of-type {\n",
       "        vertical-align: middle;\n",
       "    }\n",
       "\n",
       "    .dataframe tbody tr th {\n",
       "        vertical-align: top;\n",
       "    }\n",
       "\n",
       "    .dataframe thead th {\n",
       "        text-align: right;\n",
       "    }\n",
       "</style>\n",
       "<table border=\"1\" class=\"dataframe\">\n",
       "  <thead>\n",
       "    <tr style=\"text-align: right;\">\n",
       "      <th></th>\n",
       "      <th>0</th>\n",
       "      <th>1</th>\n",
       "      <th>2</th>\n",
       "      <th>3</th>\n",
       "      <th>4</th>\n",
       "      <th>5</th>\n",
       "      <th>6</th>\n",
       "    </tr>\n",
       "  </thead>\n",
       "  <tbody>\n",
       "    <tr>\n",
       "      <th>0</th>\n",
       "      <td>12.827538</td>\n",
       "      <td>0.0</td>\n",
       "      <td>-0.0</td>\n",
       "      <td>3.0</td>\n",
       "      <td>0.0</td>\n",
       "      <td>1.385766</td>\n",
       "      <td>-0.0</td>\n",
       "    </tr>\n",
       "  </tbody>\n",
       "</table>\n",
       "</div>"
      ],
      "text/plain": [
       "           0    1    2    3    4         5    6\n",
       "0  12.827538  0.0 -0.0  3.0  0.0  1.385766 -0.0"
      ]
     },
     "execution_count": 52,
     "metadata": {},
     "output_type": "execute_result"
    }
   ],
   "source": [
    "dewhiten(G.predict(X1[[200]]), means, stds, discrets)"
   ]
  },
  {
   "cell_type": "code",
   "execution_count": 14,
   "metadata": {},
   "outputs": [],
   "source": [
    "dewhiten(G.predict(X1), means, stds, discrets)\n",
    "dewhite_args = {'mu': means, 'sigma': stds, \"dis\": discrets}\n",
    "with open(\"ssl_dwa.pk\", 'wb') as f:\n",
    "    pk.dump(dewhite_args, f)"
   ]
  },
  {
   "cell_type": "code",
   "execution_count": 8,
   "metadata": {},
   "outputs": [
    {
     "name": "stdout",
     "output_type": "stream",
     "text": [
      "291 144\n"
     ]
    }
   ],
   "source": [
    "yhat1 = model.predict(X1)\n",
    "yhat2 = model.predict(X2)\n",
    "Xfake = G.predict(X1)\n",
    "yhat_fake2 = model.predict(Xfake)\n",
    "print(yhat1.sum(), yhat_fake2.sum())"
   ]
  }
 ],
 "metadata": {
  "interpreter": {
   "hash": "3df864af8b39f830f27d69f1736160894974969745c28481ff69e5ec159124b3"
  },
  "kernelspec": {
   "display_name": "sgtm_env",
   "language": "python",
   "name": "sgtm_env"
  },
  "language_info": {
   "codemirror_mode": {
    "name": "ipython",
    "version": 3
   },
   "file_extension": ".py",
   "mimetype": "text/x-python",
   "name": "python",
   "nbconvert_exporter": "python",
   "pygments_lexer": "ipython3",
   "version": "3.8.5"
  }
 },
 "nbformat": 4,
 "nbformat_minor": 2
}
