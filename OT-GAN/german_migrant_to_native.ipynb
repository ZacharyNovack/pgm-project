{
 "cells": [
  {
   "cell_type": "code",
   "execution_count": 3,
   "metadata": {},
   "outputs": [
    {
     "name": "stderr",
     "output_type": "stream",
     "text": [
      "2022-04-29 07:36:00.830112: W tensorflow/stream_executor/platform/default/dso_loader.cc:64] Could not load dynamic library 'libcudart.so.11.0'; dlerror: libcudart.so.11.0: cannot open shared object file: No such file or directory; LD_LIBRARY_PATH: :/usr/local/cuda-10.0/lib64:/usr/local/cuda-10.0/extras/CUPTI/lib64\n",
      "2022-04-29 07:36:00.830141: I tensorflow/stream_executor/cuda/cudart_stub.cc:29] Ignore above cudart dlerror if you do not have a GPU set up on your machine.\n"
     ]
    },
    {
     "name": "stdout",
     "output_type": "stream",
     "text": [
      "[]\n"
     ]
    },
    {
     "name": "stderr",
     "output_type": "stream",
     "text": [
      "2022-04-29 07:36:02.158073: W tensorflow/stream_executor/platform/default/dso_loader.cc:64] Could not load dynamic library 'libcudart.so.11.0'; dlerror: libcudart.so.11.0: cannot open shared object file: No such file or directory; LD_LIBRARY_PATH: :/usr/local/cuda-10.0/lib64:/usr/local/cuda-10.0/extras/CUPTI/lib64\n",
      "2022-04-29 07:36:02.158231: W tensorflow/stream_executor/platform/default/dso_loader.cc:64] Could not load dynamic library 'libcublas.so.11'; dlerror: libcublas.so.11: cannot open shared object file: No such file or directory; LD_LIBRARY_PATH: :/usr/local/cuda-10.0/lib64:/usr/local/cuda-10.0/extras/CUPTI/lib64\n",
      "2022-04-29 07:36:02.158320: W tensorflow/stream_executor/platform/default/dso_loader.cc:64] Could not load dynamic library 'libcublasLt.so.11'; dlerror: libcublasLt.so.11: cannot open shared object file: No such file or directory; LD_LIBRARY_PATH: :/usr/local/cuda-10.0/lib64:/usr/local/cuda-10.0/extras/CUPTI/lib64\n",
      "2022-04-29 07:36:02.158395: W tensorflow/stream_executor/platform/default/dso_loader.cc:64] Could not load dynamic library 'libcufft.so.10'; dlerror: libcufft.so.10: cannot open shared object file: No such file or directory; LD_LIBRARY_PATH: :/usr/local/cuda-10.0/lib64:/usr/local/cuda-10.0/extras/CUPTI/lib64\n",
      "2022-04-29 07:36:02.158474: W tensorflow/stream_executor/platform/default/dso_loader.cc:64] Could not load dynamic library 'libcurand.so.10'; dlerror: libcurand.so.10: cannot open shared object file: No such file or directory; LD_LIBRARY_PATH: :/usr/local/cuda-10.0/lib64:/usr/local/cuda-10.0/extras/CUPTI/lib64\n",
      "2022-04-29 07:36:02.158541: W tensorflow/stream_executor/platform/default/dso_loader.cc:64] Could not load dynamic library 'libcusolver.so.11'; dlerror: libcusolver.so.11: cannot open shared object file: No such file or directory; LD_LIBRARY_PATH: :/usr/local/cuda-10.0/lib64:/usr/local/cuda-10.0/extras/CUPTI/lib64\n",
      "2022-04-29 07:36:02.158603: W tensorflow/stream_executor/platform/default/dso_loader.cc:64] Could not load dynamic library 'libcusparse.so.11'; dlerror: libcusparse.so.11: cannot open shared object file: No such file or directory; LD_LIBRARY_PATH: :/usr/local/cuda-10.0/lib64:/usr/local/cuda-10.0/extras/CUPTI/lib64\n",
      "2022-04-29 07:36:02.158669: W tensorflow/stream_executor/platform/default/dso_loader.cc:64] Could not load dynamic library 'libcudnn.so.8'; dlerror: libcudnn.so.8: cannot open shared object file: No such file or directory; LD_LIBRARY_PATH: :/usr/local/cuda-10.0/lib64:/usr/local/cuda-10.0/extras/CUPTI/lib64\n",
      "2022-04-29 07:36:02.158678: W tensorflow/core/common_runtime/gpu/gpu_device.cc:1850] Cannot dlopen some GPU libraries. Please make sure the missing libraries mentioned above are installed properly if you would like to use GPU. Follow the guide at https://www.tensorflow.org/install/gpu for how to download and setup the required libraries for your platform.\n",
      "Skipping registering GPU devices...\n"
     ]
    }
   ],
   "source": [
    "from __future__ import print_function, division\n",
    "\n",
    "import numpy as np\n",
    "import matplotlib.pyplot as plt\n",
    "import seaborn as sns\n",
    "import warnings\n",
    "import tensorflow as tf\n",
    "import pickle as pk\n",
    "import os\n",
    "\n",
    "#Prevent TensorFlow from taking up all of GPU memory\n",
    "gpus = tf.config.experimental.list_physical_devices('GPU')\n",
    "for gpu in gpus:\n",
    "    tf.config.experimental.set_memory_growth(gpu, True)\n",
    "print(gpus)\n",
    "warnings.simplefilter('ignore', UserWarning)\n",
    "\n",
    "from util import *"
   ]
  },
  {
   "cell_type": "code",
   "execution_count": 2,
   "metadata": {},
   "outputs": [],
   "source": [
    "# data_dim = 2\n",
    "# data_size = 1000\n",
    "\n",
    "# X2, X1, y2, y1, columns = generate_lipton(scale=True, num_pts=data_size)\n",
    "# name1 = 'women'\n",
    "# name2 = 'men'"
   ]
  },
  {
   "cell_type": "markdown",
   "metadata": {},
   "source": [
    "read and whiten data"
   ]
  },
  {
   "cell_type": "code",
   "execution_count": 14,
   "metadata": {},
   "outputs": [],
   "source": [
    "def whitenize(df_p, df_np):\n",
    "    joint_df = pd.concat([df_p, df_np])\n",
    "    for col in joint_df.columns:\n",
    "        if col in ['0']:\n",
    "            print(col)\n",
    "            df_p[col] = np.log(df_p[col] + 10e-6)\n",
    "            df_np[col] = np.log(df_np[col] + 10e-6)\n",
    "            joint_df[col] = np.log(joint_df[col] + 10e-6)\n",
    "    means = joint_df.mean()\n",
    "    discret = []\n",
    "    for col in joint_df.columns:\n",
    "        if len(np.unique(joint_df[col])) <= 2:\n",
    "            discret.append(col)\n",
    "    new_p_df = df_p - means\n",
    "    new_np_df = df_np - means\n",
    "    joint_df = joint_df - means\n",
    "    for col in joint_df.columns:\n",
    "        if joint_df[col].std() > 0:\n",
    "            new_p_df[col] = new_p_df[col] / joint_df[col].std()\n",
    "            new_np_df[col] = new_np_df[col] / joint_df[col].std()\n",
    "            joint_df[col] = joint_df[col] / joint_df[col].std()\n",
    "    return new_p_df, new_np_df, joint_df, means, stds, discret\n"
   ]
  },
  {
   "cell_type": "code",
   "execution_count": 15,
   "metadata": {},
   "outputs": [],
   "source": [
    "in_X1 = pd.read_csv(\"German_Credit_inputs_protec.csv\")\n",
    "in_X1.drop(columns=[\"Unnamed: 0\", \"0\"], inplace=True)\n",
    "in_X1.columns = list(range(len(in_X1.columns)))\n",
    "\n",
    "in_X2 = pd.read_csv(\"German_Credit_inputs_notprotec.csv\")\n",
    "in_X2.drop(columns=[\"Unnamed: 0\", \"0\"], inplace=True)\n",
    "in_X2.columns = list(range(len(in_X2.columns)))\n",
    "X1, X2, allX, means, stds, discrets = whitenize(in_X1, in_X2)\n",
    "X1 = X1[:500]\n",
    "X2 = X2[:500]\n",
    "X1 = X1.to_numpy()\n",
    "X2 = X2.to_numpy()"
   ]
  },
  {
   "cell_type": "code",
   "execution_count": 8,
   "metadata": {},
   "outputs": [],
   "source": [
    "data_dim = X1.shape[1]\n",
    "name1 = 'foreign'\n",
    "name2 = 'domestic'"
   ]
  },
  {
   "cell_type": "code",
   "execution_count": 9,
   "metadata": {},
   "outputs": [
    {
     "name": "stderr",
     "output_type": "stream",
     "text": [
      "2022-04-29 07:36:48.014472: I tensorflow/core/platform/cpu_feature_guard.cc:151] This TensorFlow binary is optimized with oneAPI Deep Neural Network Library (oneDNN) to use the following CPU instructions in performance-critical operations:  AVX2 AVX512F FMA\n",
      "To enable them in other operations, rebuild TensorFlow with the appropriate compiler flags.\n"
     ]
    }
   ],
   "source": [
    "lambda_l1 = 1e-4\n",
    "\n",
    "D, G, combined = create_gan_small(data_dim, trans_loss_func=squared_l1_loss, trans_loss_wt=lambda_l1)\n",
    "#train(D, G, combined, X1, X2, name1, name2, xlabel='work_exp', ylabel='hair_len', xlim=(-3,3), ylim=(-3,3), epochs=2000, batch_size=32, xindex=1, yindex=4)"
   ]
  },
  {
   "cell_type": "code",
   "execution_count": 10,
   "metadata": {},
   "outputs": [
    {
     "data": {
      "text/plain": [
       "<tensorflow.python.training.tracking.util.CheckpointLoadStatus at 0x7f53fc306970>"
      ]
     },
     "execution_count": 10,
     "metadata": {},
     "output_type": "execute_result"
    }
   ],
   "source": [
    "#G.save_weights('german_gan')\n",
    "G.load_weights('german_gan')"
   ]
  },
  {
   "cell_type": "code",
   "execution_count": 11,
   "metadata": {},
   "outputs": [
    {
     "data": {
      "image/png": "[encoded data removed]",
      "text/plain": [
       "<Figure size 432x288 with 1 Axes>"
      ]
     },
     "metadata": {
      "needs_background": "light"
     },
     "output_type": "display_data"
    }
   ],
   "source": [
    "plot(X1, X2, G, name1, name2, num_pts_plot=200, xlabel='work_exp', ylabel='hair_len', xlim=(-3,3), ylim=(-3,3), xindex=1, yindex=2)"
   ]
  },
  {
   "cell_type": "code",
   "execution_count": 79,
   "metadata": {},
   "outputs": [
    {
     "data": {
      "image/png": "[encoded data removed]",
      "text/plain": [
       "<Figure size 432x288 with 1 Axes>"
      ]
     },
     "metadata": {
      "needs_background": "light"
     },
     "output_type": "display_data"
    }
   ],
   "source": [
    "plot_changes(X1, G, name1, name2, xlabel='age', ylabel='hours_per_week', xlim=(-3,3), ylim=(-3,3), num_pts_plot=100, xindex=0, yindex=5)"
   ]
  },
  {
   "cell_type": "code",
   "execution_count": 18,
   "metadata": {},
   "outputs": [],
   "source": [
    "def dewhiten(data, mu, sigma, dis):\n",
    "    new_df = pd.DataFrame(data, columns = list(range(data.shape[1])))\n",
    "    for col in new_df.columns:\n",
    "        if sigma[col] > 0:\n",
    "            new_df[col] = new_df[col] * sigma[col]\n",
    "        new_df[col] = new_df[col] + mu[col]\n",
    "    for col in new_df.columns:\n",
    "        if col in ['0', 0]:\n",
    "            new_df[col] = np.exp(new_df[col]) - 10e-6\n",
    "        if str(col) in dis or col in [2,3,5,6]:\n",
    "            new_df[col] = np.round(new_df[col])\n",
    "    return new_df"
   ]
  },
  {
   "cell_type": "code",
   "execution_count": 23,
   "metadata": {},
   "outputs": [],
   "source": [
    "dewhite_args = {'mu': means, 'sigma': stds, \"dis\": discrets}\n",
    "with open(\"german_dwa.pk\", 'wb') as f:\n",
    "    pk.dump(dewhite_args, f)"
   ]
  },
  {
   "cell_type": "code",
   "execution_count": 21,
   "metadata": {},
   "outputs": [
    {
     "data": {
      "text/plain": [
       "{'mu': 0    2.877018\n",
       " 1    7.788691\n",
       " 2    2.973000\n",
       " 3    2.845000\n",
       " 4    3.524306\n",
       " 5    1.407000\n",
       " 6    1.155000\n",
       " dtype: float64,\n",
       " 'sigma': 0    0.582240\n",
       " 1    0.776474\n",
       " 2    1.118715\n",
       " 3    1.103718\n",
       " 4    0.299747\n",
       " 5    0.577654\n",
       " 6    0.362086\n",
       " dtype: float64,\n",
       " 'dis': [6]}"
      ]
     },
     "execution_count": 21,
     "metadata": {},
     "output_type": "execute_result"
    }
   ],
   "source": [
    "dewhite_args"
   ]
  },
  {
   "cell_type": "code",
   "execution_count": 19,
   "metadata": {},
   "outputs": [
    {
     "data": {
      "text/html": [
       "<div>\n",
       "<style scoped>\n",
       "    .dataframe tbody tr th:only-of-type {\n",
       "        vertical-align: middle;\n",
       "    }\n",
       "\n",
       "    .dataframe tbody tr th {\n",
       "        vertical-align: top;\n",
       "    }\n",
       "\n",
       "    .dataframe thead th {\n",
       "        text-align: right;\n",
       "    }\n",
       "</style>\n",
       "<table border=\"1\" class=\"dataframe\">\n",
       "  <thead>\n",
       "    <tr style=\"text-align: right;\">\n",
       "      <th></th>\n",
       "      <th>0</th>\n",
       "      <th>1</th>\n",
       "      <th>2</th>\n",
       "      <th>3</th>\n",
       "      <th>4</th>\n",
       "      <th>5</th>\n",
       "      <th>6</th>\n",
       "    </tr>\n",
       "  </thead>\n",
       "  <tbody>\n",
       "    <tr>\n",
       "      <th>0</th>\n",
       "      <td>5.999990</td>\n",
       "      <td>7.063904</td>\n",
       "      <td>4.0</td>\n",
       "      <td>4.0</td>\n",
       "      <td>4.204693</td>\n",
       "      <td>2.0</td>\n",
       "      <td>1.0</td>\n",
       "    </tr>\n",
       "    <tr>\n",
       "      <th>1</th>\n",
       "      <td>47.999989</td>\n",
       "      <td>8.691315</td>\n",
       "      <td>2.0</td>\n",
       "      <td>2.0</td>\n",
       "      <td>3.091042</td>\n",
       "      <td>1.0</td>\n",
       "      <td>1.0</td>\n",
       "    </tr>\n",
       "    <tr>\n",
       "      <th>2</th>\n",
       "      <td>11.999991</td>\n",
       "      <td>7.647786</td>\n",
       "      <td>2.0</td>\n",
       "      <td>3.0</td>\n",
       "      <td>3.891820</td>\n",
       "      <td>1.0</td>\n",
       "      <td>2.0</td>\n",
       "    </tr>\n",
       "    <tr>\n",
       "      <th>3</th>\n",
       "      <td>41.999993</td>\n",
       "      <td>8.972337</td>\n",
       "      <td>2.0</td>\n",
       "      <td>4.0</td>\n",
       "      <td>3.806663</td>\n",
       "      <td>1.0</td>\n",
       "      <td>2.0</td>\n",
       "    </tr>\n",
       "    <tr>\n",
       "      <th>4</th>\n",
       "      <td>23.999992</td>\n",
       "      <td>8.490849</td>\n",
       "      <td>3.0</td>\n",
       "      <td>4.0</td>\n",
       "      <td>3.970292</td>\n",
       "      <td>2.0</td>\n",
       "      <td>2.0</td>\n",
       "    </tr>\n",
       "    <tr>\n",
       "      <th>...</th>\n",
       "      <td>...</td>\n",
       "      <td>...</td>\n",
       "      <td>...</td>\n",
       "      <td>...</td>\n",
       "      <td>...</td>\n",
       "      <td>...</td>\n",
       "      <td>...</td>\n",
       "    </tr>\n",
       "    <tr>\n",
       "      <th>32</th>\n",
       "      <td>11.999991</td>\n",
       "      <td>7.372746</td>\n",
       "      <td>3.0</td>\n",
       "      <td>2.0</td>\n",
       "      <td>3.555348</td>\n",
       "      <td>1.0</td>\n",
       "      <td>1.0</td>\n",
       "    </tr>\n",
       "    <tr>\n",
       "      <th>33</th>\n",
       "      <td>20.999991</td>\n",
       "      <td>8.232972</td>\n",
       "      <td>2.0</td>\n",
       "      <td>2.0</td>\n",
       "      <td>3.178054</td>\n",
       "      <td>1.0</td>\n",
       "      <td>1.0</td>\n",
       "    </tr>\n",
       "    <tr>\n",
       "      <th>34</th>\n",
       "      <td>47.999989</td>\n",
       "      <td>9.821409</td>\n",
       "      <td>1.0</td>\n",
       "      <td>2.0</td>\n",
       "      <td>3.465736</td>\n",
       "      <td>1.0</td>\n",
       "      <td>1.0</td>\n",
       "    </tr>\n",
       "    <tr>\n",
       "      <th>35</th>\n",
       "      <td>23.999992</td>\n",
       "      <td>7.465655</td>\n",
       "      <td>4.0</td>\n",
       "      <td>1.0</td>\n",
       "      <td>3.178054</td>\n",
       "      <td>1.0</td>\n",
       "      <td>1.0</td>\n",
       "    </tr>\n",
       "    <tr>\n",
       "      <th>36</th>\n",
       "      <td>9.999990</td>\n",
       "      <td>7.343426</td>\n",
       "      <td>3.0</td>\n",
       "      <td>2.0</td>\n",
       "      <td>3.433987</td>\n",
       "      <td>1.0</td>\n",
       "      <td>2.0</td>\n",
       "    </tr>\n",
       "  </tbody>\n",
       "</table>\n",
       "<p>1000 rows × 7 columns</p>\n",
       "</div>"
      ],
      "text/plain": [
       "            0         1    2    3         4    5    6\n",
       "0    5.999990  7.063904  4.0  4.0  4.204693  2.0  1.0\n",
       "1   47.999989  8.691315  2.0  2.0  3.091042  1.0  1.0\n",
       "2   11.999991  7.647786  2.0  3.0  3.891820  1.0  2.0\n",
       "3   41.999993  8.972337  2.0  4.0  3.806663  1.0  2.0\n",
       "4   23.999992  8.490849  3.0  4.0  3.970292  2.0  2.0\n",
       "..        ...       ...  ...  ...       ...  ...  ...\n",
       "32  11.999991  7.372746  3.0  2.0  3.555348  1.0  1.0\n",
       "33  20.999991  8.232972  2.0  2.0  3.178054  1.0  1.0\n",
       "34  47.999989  9.821409  1.0  2.0  3.465736  1.0  1.0\n",
       "35  23.999992  7.465655  4.0  1.0  3.178054  1.0  1.0\n",
       "36   9.999990  7.343426  3.0  2.0  3.433987  1.0  2.0\n",
       "\n",
       "[1000 rows x 7 columns]"
      ]
     },
     "execution_count": 19,
     "metadata": {},
     "output_type": "execute_result"
    }
   ],
   "source": [
    "dewhiten(allX, means, stds, discrets)"
   ]
  },
  {
   "cell_type": "code",
   "execution_count": 8,
   "metadata": {},
   "outputs": [
    {
     "name": "stdout",
     "output_type": "stream",
     "text": [
      "291 144\n"
     ]
    }
   ],
   "source": [
    "yhat1 = model.predict(X1)\n",
    "yhat2 = model.predict(X2)\n",
    "Xfake = G.predict(X1)\n",
    "yhat_fake2 = model.predict(Xfake)\n",
    "print(yhat1.sum(), yhat_fake2.sum())"
   ]
  }
 ],
 "metadata": {
  "interpreter": {
   "hash": "3df864af8b39f830f27d69f1736160894974969745c28481ff69e5ec159124b3"
  },
  "kernelspec": {
   "display_name": "sgtm_env",
   "language": "python",
   "name": "sgtm_env"
  },
  "language_info": {
   "codemirror_mode": {
    "name": "ipython",
    "version": 3
   },
   "file_extension": ".py",
   "mimetype": "text/x-python",
   "name": "python",
   "nbconvert_exporter": "python",
   "pygments_lexer": "ipython3",
   "version": "3.8.5"
  }
 },
 "nbformat": 4,
 "nbformat_minor": 2
}
