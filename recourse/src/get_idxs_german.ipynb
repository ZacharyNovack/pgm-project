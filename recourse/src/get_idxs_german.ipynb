{
 "cells": [
  {
   "cell_type": "code",
   "execution_count": 1,
   "metadata": {},
   "outputs": [],
   "source": [
    "from ast import boolop\n",
    "import torch\n",
    "import torch.nn as nn\n",
    "\n",
    "from sklearn.neural_network import MLPClassifier\n",
    "import tensorflow.keras.backend as K\n",
    "from tensorflow.keras.layers import Dense, Activation, Input\n",
    "from tensorflow.keras.models import Sequential, Model\n",
    "from tensorflow.keras.optimizers import Adam, RMSprop\n",
    "import os\n",
    "import sys\n",
    "import argparse\n",
    "import pickle\n",
    "import numpy as np\n",
    "import pandas as pd\n",
    "\n",
    "import configparser\n",
    "import argparse\n",
    "import textwrap\n",
    "\n",
    "from model_utils import *\n",
    "from data_utils import _make_dataset\n",
    "from gaussian import Gaussian\n",
    "\n",
    "import dice\n",
    "import gradual_construction\n",
    "from bayes_cf import *\n",
    "import face_knn"
   ]
  },
  {
   "cell_type": "code",
   "execution_count": 2,
   "metadata": {},
   "outputs": [],
   "source": [
    "german = pd.read_csv(\"../data/datasets/german_credit/german_numeric.data\")"
   ]
  },
  {
   "cell_type": "code",
   "execution_count": 3,
   "metadata": {},
   "outputs": [],
   "source": [
    "protect_idx = german[german['Foreign worker'] == 'yes'].index"
   ]
  },
  {
   "cell_type": "code",
   "execution_count": 4,
   "metadata": {},
   "outputs": [],
   "source": [
    "config = configparser.ConfigParser()\n",
    "config.read('german.config')\n",
    "basic_config = config['Basic']\n",
    "classifier_config = config['Classifier']\n",
    "data_config = config['Data']\n",
    "vae_config = config['Vae']\n",
    "dice_config = config['DiCE']\n",
    "bayes_config = config['Bayes']\n",
    "grad_con_config = config['GradualConstruction']\n",
    "face_config = config['FACE']"
   ]
  },
  {
   "cell_type": "code",
   "execution_count": 5,
   "metadata": {},
   "outputs": [
    {
     "name": "stdout",
     "output_type": "stream",
     "text": [
      "No DAG file provided/DAG path does not exist\n"
     ]
    }
   ],
   "source": [
    "data = _make_dataset(\n",
    "            fname=basic_config['dataset_path'],\n",
    "            dag_fname = basic_config['dag_path'],\n",
    "            softmax_temp = float( data_config['softmax_temp'] ),\n",
    "            target_column=data_config['target_column'],\n",
    "            drop_columns=eval( data_config['drop_columns'] ),\n",
    "            set_na = eval( data_config['set_na'] ),\n",
    "            immutable_columns = eval( data_config['immutable_columns'] ),\n",
    "            nonactionable_columns = eval( data_config[ 'nonactionable_columns' ] ),\n",
    "            log_transform = eval( data_config[ 'log_transform' ] ),\n",
    "            dataset=basic_config['dataset'],\n",
    "    )\n",
    "X = data[:][0] #Get preprocessed data\n",
    "y = data[:][1] #Get preprocessed labels\n",
    "X_women = X[data.protect_list]\n",
    "y_women = y[data.protect_list]\n",
    "X_men = X[~data.protect_list]\n",
    "y_men = y[~data.protect_list]"
   ]
  },
  {
   "cell_type": "code",
   "execution_count": 14,
   "metadata": {},
   "outputs": [],
   "source": [
    "use_X = pd.DataFrame(X.numpy())\n",
    "def generator_small(data_dim):\n",
    "    model = Sequential()\n",
    "    \n",
    "    model.add(Dense(128, input_dim=data_dim))\n",
    "    model.add(Activation('relu'))\n",
    "    model.add(Dense(128))\n",
    "    model.add(Activation('relu'))\n",
    "    model.add(Dense(data_dim))\n",
    "    \n",
    "    return model\n",
    "\n",
    "def whiten_german(data, mu, sigma, dis):\n",
    "    new_df = pd.DataFrame(data.copy(), columns = list(range(data.shape[1])))\n",
    "    for col in new_df.columns:\n",
    "        if col in ['0', 0]:\n",
    "            new_df[col] = np.log(new_df[col] + 10e-6) \n",
    "    for col in new_df.columns:\n",
    "        new_df[col] = new_df[col] - mu[col]\n",
    "        if sigma[col] > 0:\n",
    "            new_df[col] = new_df[col] / sigma[col]\n",
    "    return new_df\n",
    "\n",
    "def dewhiten(data, mu, sigma, dis):\n",
    "    new_df = pd.DataFrame(data.copy(), columns = list(range(data.shape[1])))\n",
    "    for col in new_df.columns:\n",
    "        if sigma[col] > 0:\n",
    "            new_df[col] = new_df[col] * sigma[col]\n",
    "        new_df[col] = new_df[col] + mu[col]\n",
    "    for col in new_df.columns:\n",
    "        if col in ['0', 0]:\n",
    "            new_df[col] = np.exp(new_df[col]) - 10e-6\n",
    "        if str(col) in dis or col in [2,3,5,6]:\n",
    "            new_df[col] = np.round(new_df[col])\n",
    "    return new_df"
   ]
  },
  {
   "cell_type": "code",
   "execution_count": 15,
   "metadata": {},
   "outputs": [],
   "source": [
    "with open(\"german_dwa.pk\", 'rb') as f:\n",
    "    dwa_args = pickle.load(f)\n",
    "G = generator_small(X.shape[1])\n",
    "G.load_weights('german_gan')\n",
    "whiten = whiten_german"
   ]
  },
  {
   "cell_type": "code",
   "execution_count": 16,
   "metadata": {},
   "outputs": [],
   "source": [
    "def pred(X):\n",
    "    return torch.tensor(dewhiten(G.predict(whiten(X, **dwa_args)), **dwa_args).to_numpy())"
   ]
  },
  {
   "cell_type": "code",
   "execution_count": 17,
   "metadata": {},
   "outputs": [],
   "source": [
    "if classifier_config[\"classifier\"] == \"Logistic_Regression\":\n",
    "    classifier = LogisticRegression()\n",
    "    if y.shape[1] > 1:\n",
    "        # If one-hot encoding labels, pass labels as the argmax\n",
    "        classifier.create_model( X.detach(), torch.argmax( y, axis=1 ) )\n",
    "    else:\n",
    "        classifier.create_model( X.detach(), y.ravel() ) "
   ]
  },
  {
   "cell_type": "code",
   "execution_count": 18,
   "metadata": {},
   "outputs": [],
   "source": [
    "assert german.shape[0] == X.shape[0]"
   ]
  },
  {
   "cell_type": "code",
   "execution_count": 19,
   "metadata": {},
   "outputs": [],
   "source": [
    "german['pred'] = np.argmax(classifier(X).detach().numpy(), axis=1)"
   ]
  },
  {
   "cell_type": "code",
   "execution_count": 20,
   "metadata": {},
   "outputs": [],
   "source": [
    "german['paired_pred'] = np.argmax(classifier(pred(X.numpy())).detach().numpy(), axis=1)"
   ]
  },
  {
   "cell_type": "code",
   "execution_count": 21,
   "metadata": {},
   "outputs": [],
   "source": [
    "protec = german[german['Foreign worker'] == 'yes']"
   ]
  },
  {
   "cell_type": "code",
   "execution_count": 22,
   "metadata": {},
   "outputs": [],
   "source": [
    "bad_real = protec[protec['pred'] == 0]"
   ]
  },
  {
   "cell_type": "code",
   "execution_count": 23,
   "metadata": {},
   "outputs": [],
   "source": [
    "bad_both = bad_real[bad_real['paired_pred'] == 0]"
   ]
  },
  {
   "cell_type": "code",
   "execution_count": 24,
   "metadata": {},
   "outputs": [
    {
     "data": {
      "text/plain": [
       "Int64Index([  1,  11,  35,  59,  63,  69, 101, 116, 134, 145, 152, 191, 194,\n",
       "            230, 242, 272, 286, 332, 359, 467, 476, 616, 637, 639, 677, 685,\n",
       "            706, 714, 787, 789, 814, 829, 887, 938, 973, 998, 999],\n",
       "           dtype='int64')"
      ]
     },
     "execution_count": 24,
     "metadata": {},
     "output_type": "execute_result"
    }
   ],
   "source": [
    "bad_both.index"
   ]
  },
  {
   "cell_type": "code",
   "execution_count": 3,
   "metadata": {},
   "outputs": [],
   "source": [
    "with open(\"German_Credit_Bayes_Credit amount_disps.pk\", 'rb') as f:\n",
    "    bayes_we = np.array(pickle.load(f))\n",
    "with open(\"German_Credit_face_Credit amount_disps.pk\", 'rb') as f:\n",
    "    face_we = np.array(pickle.load(f))\n",
    "with open(\"German_Credit_DiCE_Credit amount_disps.pk\", 'rb') as f:\n",
    "    DiCE_we = np.array(pickle.load(f))\n",
    "\n",
    "with open(\"German_Credit_Bayes_Age in years_disps.pk\", 'rb') as f:\n",
    "    bayes_hl = np.array(pickle.load(f))\n",
    "with open(\"German_Credit_face_Age in years_disps.pk\", 'rb') as f:\n",
    "    face_hl = np.array(pickle.load(f))\n",
    "with open(\"German_Credit_DiCE_Age in years_disps.pk\", 'rb') as f:\n",
    "    DiCE_hl = np.array(pickle.load(f))"
   ]
  },
  {
   "cell_type": "code",
   "execution_count": 4,
   "metadata": {},
   "outputs": [],
   "source": [
    "import matplotlib.pyplot as plt"
   ]
  },
  {
   "cell_type": "code",
   "execution_count": 6,
   "metadata": {},
   "outputs": [
    {
     "data": {
      "image/png": "[encoded data removed]",
      "text/plain": [
       "<Figure size 864x360 with 2 Axes>"
      ]
     },
     "metadata": {
      "needs_background": "light"
     },
     "output_type": "display_data"
    }
   ],
   "source": [
    "fig, ax = plt.subplots(ncols=2, constrained_layout=False, figsize=(12,5))\n",
    "ax[0].hist(bayes_we, label = 'Bayes', alpha=0.5)\n",
    "ax[0].hist(face_we, label = 'FACE',alpha=0.5)\n",
    "ax[0].hist(DiCE_we, label = 'DiCE',alpha=0.5)\n",
    "ax[0].set_title(\"Credit amount\")\n",
    "ax[1].hist(bayes_hl, label = 'Bayes',alpha=0.5)\n",
    "ax[1].hist(face_hl, label = 'FACE',alpha=0.5)\n",
    "ax[1].hist(DiCE_hl, label = 'DiCE',alpha=0.5)\n",
    "ax[1].set_title(\"Age in years\")\n",
    "plt.legend()\n",
    "plt.savefig(\"german_graphs.pdf\")"
   ]
  },
  {
   "cell_type": "code",
   "execution_count": null,
   "metadata": {},
   "outputs": [],
   "source": []
  }
 ],
 "metadata": {
  "interpreter": {
   "hash": "16d7ef08bd6cc829841de65074209deee94b1af2f51971f474be7937097d7cd8"
  },
  "kernelspec": {
   "display_name": "Python 3.6.13 ('causal')",
   "language": "python",
   "name": "python3"
  },
  "language_info": {
   "codemirror_mode": {
    "name": "ipython",
    "version": 3
   },
   "file_extension": ".py",
   "mimetype": "text/x-python",
   "name": "python",
   "nbconvert_exporter": "python",
   "pygments_lexer": "ipython3",
   "version": "3.6.13"
  },
  "orig_nbformat": 4
 },
 "nbformat": 4,
 "nbformat_minor": 2
}
