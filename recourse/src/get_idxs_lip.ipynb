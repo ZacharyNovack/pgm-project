{
 "cells": [
  {
   "cell_type": "code",
   "execution_count": 6,
   "metadata": {},
   "outputs": [],
   "source": [
    "from ast import boolop\n",
    "import torch\n",
    "import torch.nn as nn\n",
    "\n",
    "from sklearn.neural_network import MLPClassifier\n",
    "import tensorflow.keras.backend as K\n",
    "from tensorflow.keras.layers import Dense, Activation, Input\n",
    "from tensorflow.keras.models import Sequential, Model\n",
    "from tensorflow.keras.optimizers import Adam, RMSprop\n",
    "import os\n",
    "import sys\n",
    "import argparse\n",
    "import pickle\n",
    "import numpy as np\n",
    "import pandas as pd\n",
    "\n",
    "import configparser\n",
    "import argparse\n",
    "import textwrap\n",
    "\n",
    "from model_utils import *\n",
    "from data_utils import _make_dataset\n",
    "from gaussian import Gaussian\n",
    "\n",
    "import dice\n",
    "import gradual_construction\n",
    "from bayes_cf import *\n",
    "import face_knn"
   ]
  },
  {
   "cell_type": "code",
   "execution_count": 7,
   "metadata": {},
   "outputs": [],
   "source": [
    "lipton = pd.read_csv(\"../data/datasets/lipton/lipton_data.data\")"
   ]
  },
  {
   "cell_type": "code",
   "execution_count": 3,
   "metadata": {},
   "outputs": [],
   "source": [
    "protect_idx = lipton[lipton['gender'] == 0].index"
   ]
  },
  {
   "cell_type": "code",
   "execution_count": 4,
   "metadata": {},
   "outputs": [],
   "source": [
    "config = configparser.ConfigParser()\n",
    "config.read('lipton.config')\n",
    "basic_config = config['Basic']\n",
    "classifier_config = config['Classifier']\n",
    "data_config = config['Data']\n",
    "vae_config = config['Vae']\n",
    "dice_config = config['DiCE']\n",
    "bayes_config = config['Bayes']\n",
    "grad_con_config = config['GradualConstruction']\n",
    "face_config = config['FACE']"
   ]
  },
  {
   "cell_type": "code",
   "execution_count": 5,
   "metadata": {},
   "outputs": [
    {
     "name": "stdout",
     "output_type": "stream",
     "text": [
      "hair_len []\n",
      "work_exp []\n"
     ]
    }
   ],
   "source": [
    "data = _make_dataset(\n",
    "            fname=basic_config['dataset_path'],\n",
    "            dag_fname = basic_config['dag_path'],\n",
    "            softmax_temp = float( data_config['softmax_temp'] ),\n",
    "            target_column=data_config['target_column'],\n",
    "            drop_columns=eval( data_config['drop_columns'] ),\n",
    "            set_na = eval( data_config['set_na'] ),\n",
    "            immutable_columns = eval( data_config['immutable_columns'] ),\n",
    "            nonactionable_columns = eval( data_config[ 'nonactionable_columns' ] ),\n",
    "            log_transform = eval( data_config[ 'log_transform' ] ),\n",
    "            dataset=basic_config['dataset'],\n",
    "    )\n",
    "X = data[:][0] #Get preprocessed data\n",
    "y = data[:][1] #Get preprocessed labels\n",
    "X_women = X[data.protect_list]\n",
    "y_women = y[data.protect_list]\n",
    "X_men = X[~data.protect_list]\n",
    "y_men = y[~data.protect_list]"
   ]
  },
  {
   "cell_type": "code",
   "execution_count": 13,
   "metadata": {},
   "outputs": [],
   "source": [
    "use_X = pd.DataFrame(X.numpy())\n",
    "def generator_small(data_dim):\n",
    "    model = Sequential()\n",
    "    \n",
    "    model.add(Dense(128, input_dim=data_dim))\n",
    "    model.add(Activation('relu'))\n",
    "    model.add(Dense(128))\n",
    "    model.add(Activation('relu'))\n",
    "    model.add(Dense(data_dim))\n",
    "    \n",
    "    return model"
   ]
  },
  {
   "cell_type": "code",
   "execution_count": 14,
   "metadata": {},
   "outputs": [
    {
     "data": {
      "text/plain": [
       "<tensorflow.python.training.tracking.util.CheckpointLoadStatus at 0x7fd6b69fb8d0>"
      ]
     },
     "execution_count": 14,
     "metadata": {},
     "output_type": "execute_result"
    }
   ],
   "source": [
    "with open(\"german_dwa.pk\", 'rb') as f:\n",
    "    dwa_args = pickle.load(f)\n",
    "G = generator_small(X.shape[1])\n",
    "G.load_weights('lipton_midway')"
   ]
  },
  {
   "cell_type": "code",
   "execution_count": 7,
   "metadata": {},
   "outputs": [],
   "source": [
    "def pred(X):\n",
    "    return torch.tensor(G.predict(X))"
   ]
  },
  {
   "cell_type": "code",
   "execution_count": 8,
   "metadata": {},
   "outputs": [],
   "source": [
    "if classifier_config[\"classifier\"] == \"Logistic_Regression\":\n",
    "    classifier = LogisticRegression()\n",
    "    if y.shape[1] > 1:\n",
    "        # If one-hot encoding labels, pass labels as the argmax\n",
    "        classifier.create_model( X.detach(), torch.argmax( y, axis=1 ) )\n",
    "    else:\n",
    "        classifier.create_model( X.detach(), y.ravel() ) "
   ]
  },
  {
   "cell_type": "code",
   "execution_count": 9,
   "metadata": {},
   "outputs": [],
   "source": [
    "assert lipton.shape[0] == X.shape[0]"
   ]
  },
  {
   "cell_type": "code",
   "execution_count": 10,
   "metadata": {},
   "outputs": [],
   "source": [
    "lipton['pred'] = np.argmax(classifier(X).detach().numpy(), axis=1)"
   ]
  },
  {
   "cell_type": "code",
   "execution_count": 15,
   "metadata": {},
   "outputs": [],
   "source": [
    "lipton['paired_pred'] = np.argmax(classifier(pred(X.numpy())).detach().numpy(), axis=1)"
   ]
  },
  {
   "cell_type": "code",
   "execution_count": 16,
   "metadata": {},
   "outputs": [],
   "source": [
    "protec = lipton[lipton['gender'] == 0]"
   ]
  },
  {
   "cell_type": "code",
   "execution_count": 17,
   "metadata": {},
   "outputs": [],
   "source": [
    "bad_real = protec[protec['pred'] == 0]"
   ]
  },
  {
   "cell_type": "code",
   "execution_count": 18,
   "metadata": {},
   "outputs": [],
   "source": [
    "bad_both = bad_real[bad_real['paired_pred'] == 0]"
   ]
  },
  {
   "cell_type": "code",
   "execution_count": 21,
   "metadata": {},
   "outputs": [],
   "source": [
    "import pickle as pk\n",
    "with open(\"lipton_idx.pk\", \"wb\") as f:\n",
    "    pk.dump(list(bad_both.index), f)"
   ]
  },
  {
   "cell_type": "code",
   "execution_count": 4,
   "metadata": {},
   "outputs": [
    {
     "data": {
      "text/html": [
       "<div>\n",
       "<style scoped>\n",
       "    .dataframe tbody tr th:only-of-type {\n",
       "        vertical-align: middle;\n",
       "    }\n",
       "\n",
       "    .dataframe tbody tr th {\n",
       "        vertical-align: top;\n",
       "    }\n",
       "\n",
       "    .dataframe thead th {\n",
       "        text-align: right;\n",
       "    }\n",
       "</style>\n",
       "<table border=\"1\" class=\"dataframe\">\n",
       "  <thead>\n",
       "    <tr style=\"text-align: right;\">\n",
       "      <th></th>\n",
       "      <th>Unnamed: 0</th>\n",
       "      <th>work_exp</th>\n",
       "      <th>hair_len</th>\n",
       "      <th>gender</th>\n",
       "      <th>pred</th>\n",
       "    </tr>\n",
       "  </thead>\n",
       "  <tbody>\n",
       "    <tr>\n",
       "      <th>0</th>\n",
       "      <td>0</td>\n",
       "      <td>0.711543</td>\n",
       "      <td>0.003527</td>\n",
       "      <td>0.0</td>\n",
       "      <td>True</td>\n",
       "    </tr>\n",
       "    <tr>\n",
       "      <th>1</th>\n",
       "      <td>1</td>\n",
       "      <td>-0.792709</td>\n",
       "      <td>0.876868</td>\n",
       "      <td>0.0</td>\n",
       "      <td>False</td>\n",
       "    </tr>\n",
       "    <tr>\n",
       "      <th>2</th>\n",
       "      <td>2</td>\n",
       "      <td>-0.938387</td>\n",
       "      <td>0.551960</td>\n",
       "      <td>0.0</td>\n",
       "      <td>False</td>\n",
       "    </tr>\n",
       "    <tr>\n",
       "      <th>3</th>\n",
       "      <td>3</td>\n",
       "      <td>-1.125058</td>\n",
       "      <td>-0.376501</td>\n",
       "      <td>0.0</td>\n",
       "      <td>False</td>\n",
       "    </tr>\n",
       "    <tr>\n",
       "      <th>4</th>\n",
       "      <td>4</td>\n",
       "      <td>-0.830734</td>\n",
       "      <td>0.423972</td>\n",
       "      <td>0.0</td>\n",
       "      <td>False</td>\n",
       "    </tr>\n",
       "    <tr>\n",
       "      <th>...</th>\n",
       "      <td>...</td>\n",
       "      <td>...</td>\n",
       "      <td>...</td>\n",
       "      <td>...</td>\n",
       "      <td>...</td>\n",
       "    </tr>\n",
       "    <tr>\n",
       "      <th>1995</th>\n",
       "      <td>1995</td>\n",
       "      <td>0.204868</td>\n",
       "      <td>-0.905727</td>\n",
       "      <td>1.0</td>\n",
       "      <td>False</td>\n",
       "    </tr>\n",
       "    <tr>\n",
       "      <th>1996</th>\n",
       "      <td>1996</td>\n",
       "      <td>1.003855</td>\n",
       "      <td>-1.108976</td>\n",
       "      <td>1.0</td>\n",
       "      <td>False</td>\n",
       "    </tr>\n",
       "    <tr>\n",
       "      <th>1997</th>\n",
       "      <td>1997</td>\n",
       "      <td>1.319243</td>\n",
       "      <td>-0.970712</td>\n",
       "      <td>1.0</td>\n",
       "      <td>False</td>\n",
       "    </tr>\n",
       "    <tr>\n",
       "      <th>1998</th>\n",
       "      <td>1998</td>\n",
       "      <td>0.976998</td>\n",
       "      <td>-0.927839</td>\n",
       "      <td>1.0</td>\n",
       "      <td>False</td>\n",
       "    </tr>\n",
       "    <tr>\n",
       "      <th>1999</th>\n",
       "      <td>1999</td>\n",
       "      <td>0.959480</td>\n",
       "      <td>-1.406810</td>\n",
       "      <td>1.0</td>\n",
       "      <td>False</td>\n",
       "    </tr>\n",
       "  </tbody>\n",
       "</table>\n",
       "<p>2000 rows × 5 columns</p>\n",
       "</div>"
      ],
      "text/plain": [
       "      Unnamed: 0  work_exp  hair_len  gender   pred\n",
       "0              0  0.711543  0.003527     0.0   True\n",
       "1              1 -0.792709  0.876868     0.0  False\n",
       "2              2 -0.938387  0.551960     0.0  False\n",
       "3              3 -1.125058 -0.376501     0.0  False\n",
       "4              4 -0.830734  0.423972     0.0  False\n",
       "...          ...       ...       ...     ...    ...\n",
       "1995        1995  0.204868 -0.905727     1.0  False\n",
       "1996        1996  1.003855 -1.108976     1.0  False\n",
       "1997        1997  1.319243 -0.970712     1.0  False\n",
       "1998        1998  0.976998 -0.927839     1.0  False\n",
       "1999        1999  0.959480 -1.406810     1.0  False\n",
       "\n",
       "[2000 rows x 5 columns]"
      ]
     },
     "execution_count": 4,
     "metadata": {},
     "output_type": "execute_result"
    }
   ],
   "source": [
    "lipton"
   ]
  },
  {
   "cell_type": "code",
   "execution_count": 8,
   "metadata": {},
   "outputs": [],
   "source": [
    "with open(\"lipton_Bayes_work_exp_disps.pk\", 'rb') as f:\n",
    "    bayes_we = np.array(pickle.load(f))\n",
    "with open(\"lipton_face_work_exp_disps.pk\", 'rb') as f:\n",
    "    face_we = np.array(pickle.load(f))\n",
    "with open(\"lipton_DiCE_work_exp_disps.pk\", 'rb') as f:\n",
    "    DiCE_we = np.array(pickle.load(f))\n",
    "\n",
    "with open(\"lipton_Bayes_hair_len_disps.pk\", 'rb') as f:\n",
    "    bayes_hl = np.array(pickle.load(f))\n",
    "with open(\"lipton_face_hair_len_disps.pk\", 'rb') as f:\n",
    "    face_hl = np.array(pickle.load(f))\n",
    "with open(\"lipton_DiCE_hair_len_disps.pk\", 'rb') as f:\n",
    "    DiCE_hl = np.array(pickle.load(f))"
   ]
  },
  {
   "cell_type": "code",
   "execution_count": 9,
   "metadata": {},
   "outputs": [],
   "source": [
    "import matplotlib.pyplot as plt"
   ]
  },
  {
   "cell_type": "code",
   "execution_count": 10,
   "metadata": {},
   "outputs": [
    {
     "data": {
      "image/png": "[encoded data removed]",
      "text/plain": [
       "<Figure size 864x360 with 2 Axes>"
      ]
     },
     "metadata": {
      "needs_background": "light"
     },
     "output_type": "display_data"
    }
   ],
   "source": [
    "fig, ax = plt.subplots(ncols=2, constrained_layout=False, figsize=(12,5))\n",
    "ax[0].hist(bayes_we, label = 'Bayes', alpha=0.5)\n",
    "ax[0].hist(face_we, label = 'FACE',alpha=0.5)\n",
    "ax[0].hist(DiCE_we, label = 'DiCE',alpha=0.5)\n",
    "ax[0].set_title(\"Work Experience\")\n",
    "ax[1].hist(bayes_hl, label = 'Bayes',alpha=0.5)\n",
    "ax[1].hist(face_hl, label = 'FACE',alpha=0.5)\n",
    "ax[1].hist(DiCE_hl, label = 'DiCE',alpha=0.5)\n",
    "ax[1].set_title(\"Hair Length\")\n",
    "plt.legend()\n",
    "plt.savefig(\"lipton_graphs.pdf\")"
   ]
  },
  {
   "cell_type": "code",
   "execution_count": null,
   "metadata": {},
   "outputs": [],
   "source": []
  }
 ],
 "metadata": {
  "interpreter": {
   "hash": "16d7ef08bd6cc829841de65074209deee94b1af2f51971f474be7937097d7cd8"
  },
  "kernelspec": {
   "display_name": "Python 3.6.13 ('causal')",
   "language": "python",
   "name": "python3"
  },
  "language_info": {
   "codemirror_mode": {
    "name": "ipython",
    "version": 3
   },
   "file_extension": ".py",
   "mimetype": "text/x-python",
   "name": "python",
   "nbconvert_exporter": "python",
   "pygments_lexer": "ipython3",
   "version": "3.6.13"
  },
  "orig_nbformat": 4
 },
 "nbformat": 4,
 "nbformat_minor": 2
}
