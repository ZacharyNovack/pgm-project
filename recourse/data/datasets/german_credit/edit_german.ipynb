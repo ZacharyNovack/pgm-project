{
 "cells": [
  {
   "cell_type": "code",
   "execution_count": 1,
   "metadata": {},
   "outputs": [],
   "source": [
    "import pandas as pd\n",
    "import numpy as np"
   ]
  },
  {
   "cell_type": "code",
   "execution_count": 2,
   "metadata": {},
   "outputs": [],
   "source": [
    "german_data = pd.read_csv(\"german_clean.data\")"
   ]
  },
  {
   "cell_type": "code",
   "execution_count": 3,
   "metadata": {},
   "outputs": [
    {
     "name": "stdout",
     "output_type": "stream",
     "text": [
      "Status of existing checking account <class 'str'>\n",
      "Duration in month <class 'numpy.int64'>\n",
      "Credit history <class 'str'>\n",
      "Purpose <class 'str'>\n",
      "Credit amount <class 'numpy.int64'>\n",
      "Savings account/bonds <class 'str'>\n",
      "Present employment since <class 'str'>\n",
      "Installment rate in percentage of disposable income <class 'numpy.int64'>\n",
      "Personal status and sex <class 'str'>\n",
      "Other debtors/guarantors <class 'str'>\n",
      "Present residence since <class 'numpy.int64'>\n",
      "Property <class 'str'>\n",
      "Age in years <class 'numpy.int64'>\n",
      "Other installment plans <class 'str'>\n",
      "Housing <class 'str'>\n",
      "Number of existing credits at this bank <class 'numpy.int64'>\n",
      "Job <class 'str'>\n",
      "Number of people being liable to provide maintenance for <class 'numpy.int64'>\n",
      "Telephone <class 'str'>\n",
      "Foreign worker <class 'str'>\n",
      "Good/Bad <class 'str'>\n"
     ]
    },
    {
     "name": "stderr",
     "output_type": "stream",
     "text": [
      "/var/folders/fh/100d1_m91rv247lv32_6b2n80000gn/T/ipykernel_34709/1246355388.py:4: FutureWarning: elementwise comparison failed; returning scalar instead, but in the future will perform elementwise comparison\n",
      "  if \"Two\" in np.unique(german_data[col]):\n"
     ]
    }
   ],
   "source": [
    "n_dict = {'One': 1, 'Two': 2, 'Three': 3, 'Four': 4}\n",
    "\n",
    "for col in german_data.columns:\n",
    "    if \"Two\" in np.unique(german_data[col]):\n",
    "        german_data[col] = german_data[col].apply(lambda x: n_dict[x])\n",
    "    print(col, type(german_data[col][0]))\n",
    "    # if type(german_data[col][0]) == str:\n",
    "    #     german_data.drop(columns=[col], inplace=True)"
   ]
  },
  {
   "cell_type": "code",
   "execution_count": 4,
   "metadata": {},
   "outputs": [],
   "source": [
    "german_data.to_csv(\"german_numeric.data\", index=False)"
   ]
  },
  {
   "cell_type": "code",
   "execution_count": null,
   "metadata": {},
   "outputs": [],
   "source": []
  }
 ],
 "metadata": {
  "interpreter": {
   "hash": "808ceec4c81e50265f9bdbefa6d14247242dcf4e583da4bd06ff08b68c6621cd"
  },
  "kernelspec": {
   "display_name": "Python 3.9.1 ('10601')",
   "language": "python",
   "name": "python3"
  },
  "language_info": {
   "codemirror_mode": {
    "name": "ipython",
    "version": 3
   },
   "file_extension": ".py",
   "mimetype": "text/x-python",
   "name": "python",
   "nbconvert_exporter": "python",
   "pygments_lexer": "ipython3",
   "version": "3.9.1"
  },
  "orig_nbformat": 4
 },
 "nbformat": 4,
 "nbformat_minor": 2
}
